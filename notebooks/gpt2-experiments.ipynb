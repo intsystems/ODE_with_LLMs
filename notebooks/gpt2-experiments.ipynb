{
 "cells": [
  {
   "cell_type": "code",
   "execution_count": 1,
   "id": "8906eb22-4e31-49d3-a671-c62247c0745b",
   "metadata": {},
   "outputs": [
    {
     "name": "stderr",
     "output_type": "stream",
     "text": [
      "/usr/local/lib/python3.10/dist-packages/tqdm/auto.py:21: TqdmWarning: IProgress not found. Please update jupyter and ipywidgets. See https://ipywidgets.readthedocs.io/en/stable/user_install.html\n",
      "  from .autonotebook import tqdm as notebook_tqdm\n"
     ]
    }
   ],
   "source": [
    "import torch\n",
    "from transformers import AutoModelForCausalLM, AutoTokenizer, BitsAndBytesConfig, pipeline"
   ]
  },
  {
   "cell_type": "markdown",
   "id": "4b45b0a6-4b6c-482f-8d3b-1088e64d970b",
   "metadata": {},
   "source": [
    "# GPT2-XL"
   ]
  },
  {
   "cell_type": "code",
   "execution_count": 22,
   "id": "38832dc2-f305-44a8-8bdf-5e6277e63b17",
   "metadata": {},
   "outputs": [],
   "source": [
    "quantization_config = BitsAndBytesConfig(\n",
    "    load_in_4bit=True,\n",
    "    bnb_4bit_quant_type=\"nf4\",\n",
    "    bnb_4bit_compute_dtype=\"float16\",\n",
    "    bnb_4bit_use_double_quant=True\n",
    ")\n",
    "\n",
    "model = AutoModelForCausalLM.from_pretrained(\n",
    "    \"openai-community/gpt2-xl\",\n",
    "    quantization_config=quantization_config,\n",
    "    device_map=\"auto\"\n",
    ")\n",
    "\n",
    "tokenizer = AutoTokenizer.from_pretrained(\"openai-community/gpt2-xl\")"
   ]
  },
  {
   "cell_type": "code",
   "execution_count": 23,
   "id": "5ea9a198-93c3-4b31-aa97-270bb38cd153",
   "metadata": {},
   "outputs": [],
   "source": [
    "prompt = \"\"\"\n",
    "Ты — эксперт по математическому анализу и спектральным методам. Твоя задача — найти оператор Лапласа - Бельтрами по заданному уравнению поверхности.\n",
    "оператор Лапласа - Бельтрами для уравнения поверхности {} будет выражаться как \n",
    "Исходные данные для задачи:\n",
    "- Уравнение поверхности : r(θ, ϕ) = (R sin ϕ cos θ, R sin ϕ sin θ, R cos ϕ)\n",
    "- Область значений функции :  θ ∈ [0, 2π), ϕ ∈ [0, π]\n",
    "\"\"\"\n",
    "prompt = \"The Laplace–Beltrami operator for the surface equation r(θ, ϕ) = (R sin ϕ cos θ, R sin ϕ sin θ, R cos ϕ) is expressed as\""
   ]
  },
  {
   "cell_type": "code",
   "execution_count": 24,
   "id": "e5397589-2932-49e2-bff0-813d2ff41464",
   "metadata": {},
   "outputs": [
    {
     "name": "stderr",
     "output_type": "stream",
     "text": [
      "Setting `pad_token_id` to `eos_token_id`:50256 for open-end generation.\n"
     ]
    }
   ],
   "source": [
    "inputs = tokenizer(prompt, return_tensors=\"pt\").to(model.device)\n",
    "outputs = model.generate(**inputs, max_new_tokens=200)\n",
    "answer = tokenizer.decode(outputs[0], skip_special_tokens=True)"
   ]
  },
  {
   "cell_type": "code",
   "execution_count": 25,
   "id": "8da81038-c125-4577-a864-1b98fc27e200",
   "metadata": {},
   "outputs": [
    {
     "name": "stdout",
     "output_type": "stream",
     "text": [
      "The Laplace–Beltrami operator for the surface equation r(θ, ϕ) = (R sin ϕ cos θ, R sin ϕ sin θ, R cos ϕ) is expressed as:\n",
      "\n",
      "where R is the radius of the Earth, ϕ is the Earth's angular velocity, and θ is the angle between the Earth's surface and the line of sight to the Earth. The Laplace–Beltrami operator is a special case of the Laplace operator for the surface equation r(θ, ϕ) = (R cos ϕ sin θ, R cos ϕ sin θ, R sin ϕ cos θ, R cos ϕ) , which is the same as the Laplace operator for the surface equation r(θ, ϕ) = (R sin ϕ cos θ, R sin ϕ sin θ, R cos ϕ) .\n",
      "\n",
      "The Laplace operator for the surface equation r(θ, ϕ) = (R cos ϕ sin θ, R sin ϕ cos θ, R cos ϕ) is expressed as:\n",
      "\n",
      "where R is the radius\n"
     ]
    }
   ],
   "source": [
    "print(answer)"
   ]
  },
  {
   "cell_type": "markdown",
   "id": "7761d0d8-d0f9-4c75-9b9f-6640333dfcb0",
   "metadata": {},
   "source": [
    "# QWEN2-1.5b"
   ]
  },
  {
   "cell_type": "code",
   "execution_count": 26,
   "id": "1c1da6a3-233f-4409-ae44-5d0329224eeb",
   "metadata": {},
   "outputs": [],
   "source": [
    "import torch\n",
    "from transformers import pipeline"
   ]
  },
  {
   "cell_type": "code",
   "execution_count": 29,
   "id": "decc18fc-f82f-467a-9c5c-12b02dbb148a",
   "metadata": {
    "scrolled": true
   },
   "outputs": [
    {
     "name": "stderr",
     "output_type": "stream",
     "text": [
      "Device set to use cuda:0\n"
     ]
    }
   ],
   "source": [
    "pipe = pipeline(\n",
    "    task=\"text-generation\",\n",
    "    model=\"Qwen/Qwen2-1.5B-Instruct\",\n",
    "    dtype=torch.bfloat16,\n",
    "    device_map=0\n",
    ")\n",
    "\n",
    "messages = [\n",
    "    {\"role\": \"system\", \"content\": \"You are a mathematition.\"},\n",
    "    {\"role\": \"user\", \"content\": \"The Laplace–Beltrami operator for the surface equation r(θ, ϕ) = (R sin ϕ cos θ, R sin ϕ sin θ, R cos ϕ) is expressed as\"},\n",
    "]\n",
    "outputs = pipe(messages, max_new_tokens=444, do_sample=True, temperature=0.7, top_k=50, top_p=0.95)\n",
    "answer = outputs[0][\"generated_text\"][-1]['content']"
   ]
  },
  {
   "cell_type": "code",
   "execution_count": 30,
   "id": "ec4a59df-5e7f-4377-b644-6e85285fc13d",
   "metadata": {},
   "outputs": [
    {
     "name": "stdout",
     "output_type": "stream",
     "text": [
      "The Laplace-Beltrami operator on a surface of revolution can be expressed in terms of cylindrical coordinates. Let's denote the surface parameterization by:\n",
      "\n",
      "r(θ, ϕ) = (R \\* sin(\\phi) \\* cos(θ), R \\* sin(\\phi) \\* sin(θ), R \\* cos(\\phi))\n",
      "\n",
      "Then, we can write this parameterization in spherical coordinates as well:\n",
      "\n",
      "r(θ, ϕ) = (R \\* \\sin(\\theta) \\* \\cos(\\phi), R \\* \\sin(\\theta) \\* \\sin(\\phi), R \\* \\cos(\\theta))\n",
      "\n",
      "Now, let's express the Laplacian in cylindrical and spherical coordinates:\n",
      "\n",
      "1. **Laplacian in Cylindrical Coordinates**: For a surface parametrized by \\(r\\cdot r'\\) + \\(r''\\) = 0,\n",
      "\n",
      "∇^2 f = -∂f/∂r + ∂²f/∂r² + ∂²f/∂θ²\n",
      "\n",
      "For our surface, this becomes:\n",
      "∇^2 f = -∂f/∂θ + ∂²f/∂φ².\n",
      "\n",
      "2. **Laplacian in Spherical Coordinates**: The Laplacian in spherical coordinates with respect to φ (angle between r and φ) is given by:\n",
      "\n",
      "∇^2 f = -∂f/∂θ² + ∂²f/∂ϕ²\n",
      "\n",
      "In our case, since φ = ϕ (same angle between r and φ at all points on the surface), we get:\n",
      "\n",
      "∇^2 f = -∂f/∂θ² + ∂²f/∂θ² = -∂f/∂θ².\n",
      "\n",
      "So, the Laplace-Beltrami operator for our surface equation is a constant -∂f/∂θ². This means that our surface will have zero mean curvature. If you need help with another aspect or have more specific questions about mathematics, feel free to ask!\n"
     ]
    }
   ],
   "source": [
    "print(answer)"
   ]
  },
  {
   "cell_type": "code",
   "execution_count": null,
   "id": "35de2074-ce17-465a-afb8-ca5f4122f3a1",
   "metadata": {},
   "outputs": [],
   "source": []
  }
 ],
 "metadata": {
  "kernelspec": {
   "display_name": "Python 3 (ipykernel)",
   "language": "python",
   "name": "python3"
  },
  "language_info": {
   "codemirror_mode": {
    "name": "ipython",
    "version": 3
   },
   "file_extension": ".py",
   "mimetype": "text/x-python",
   "name": "python",
   "nbconvert_exporter": "python",
   "pygments_lexer": "ipython3",
   "version": "3.10.18"
  }
 },
 "nbformat": 4,
 "nbformat_minor": 5
}
